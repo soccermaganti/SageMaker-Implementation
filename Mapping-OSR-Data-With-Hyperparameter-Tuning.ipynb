{
 "cells": [
  {
   "cell_type": "markdown",
   "id": "28f3abb5",
   "metadata": {},
   "source": [
    "1) Initializing the notebook with all necessary parameters to use the model\n",
    "\n",
    "- The S3 bucket and prefix that you want to use for training and model data. This should be within the same region as the Notebook Instance, training, and hosting. If you don’t specify a bucket, SageMaker SDK will create a default bucket following a pre-defined naming convention in the same region.\n",
    "\n",
    "- The IAM role ARN used to give SageMaker access to your data. It can be fetched using the get_execution_role method from sagemaker python SDK.\n",
    "\n",
    "- Also using automatic model tuning within this notebook to find the best version of the model by running many parallel jobs over a set range of hyperparameters.\n",
    "- Have the ability to change the range of all the parameter to you can choose a combination of values that optimize the model to get the accuracy you desire."
   ]
  },
  {
   "cell_type": "code",
   "execution_count": 13,
   "id": "7539d5ef",
   "metadata": {},
   "outputs": [
    {
     "name": "stdout",
     "output_type": "stream",
     "text": [
      "arn:aws:iam::367379483300:role/service-role/AmazonSageMaker-ExecutionRole-20220712T124620\n",
      "a202990-mapping-osr-accounts-s3-bucket\n"
     ]
    },
    {
     "name": "stderr",
     "output_type": "stream",
     "text": [
      "[nltk_data] Downloading package punkt to /home/ec2-user/nltk_data...\n",
      "[nltk_data]   Package punkt is already up-to-date!\n"
     ]
    }
   ],
   "source": [
    "import boto3\n",
    "import pandas as pd\n",
    "import numpy as np\n",
    "import matplotlib.pyplot as plt\n",
    "import os\n",
    "import sagemaker\n",
    "from sagemaker import get_execution_role\n",
    "from sagemaker.inputs import TrainingInput\n",
    "from sagemaker.serializers import CSVSerializer\n",
    "from random import shuffle\n",
    "import multiprocessing\n",
    "from multiprocessing import Pool\n",
    "import csv\n",
    "import json\n",
    "import nltk\n",
    "\n",
    "sess = sagemaker.Session()\n",
    "\n",
    "nltk.download(\"punkt\")\n",
    "\n",
    "role = get_execution_role()\n",
    "print(role)\n",
    "bucket = \"a202990-mapping-osr-accounts-s3-bucket\"\n",
    "print(bucket)\n",
    "prefix = \"ForLargerNotebook\"\n"
   ]
  },
  {
   "cell_type": "markdown",
   "id": "7461bfff",
   "metadata": {},
   "source": [
    "- Retreive the data from the S3 bucket where it is kept."
   ]
  },
  {
   "cell_type": "code",
   "execution_count": 14,
   "id": "e4dc5631",
   "metadata": {},
   "outputs": [],
   "source": [
    "dataset = pd.read_csv('s3://' + bucket + '/' + prefix + '/' + 'ActualDataWithoutExtraColumns.csv')"
   ]
  },
  {
   "cell_type": "markdown",
   "id": "45020c01",
   "metadata": {},
   "source": [
    "- Get all unique category names from the data"
   ]
  },
  {
   "cell_type": "code",
   "execution_count": 15,
   "id": "9c5755c7",
   "metadata": {},
   "outputs": [
    {
     "name": "stdout",
     "output_type": "stream",
     "text": [
      "['NCA 3 1 2 5'\n",
      " 'iXBRL DPL (cost of sales) other repairs and maintenance costs'\n",
      " 'NCA 3 2 2 5' ... 'iXBRL DPL (distribution) other staff costs, directors'\n",
      " 'NCA 7 3 2 2' 'Sales 1 UK']\n"
     ]
    }
   ],
   "source": [
    "categories = dataset[\"NominalCategoryCodename\"].unique()\n",
    "print(categories)\n",
    "with open(\"classes.txt\", 'w') as out:\n",
    "    for n in categories:\n",
    "        out.write(n + '\\n')"
   ]
  },
  {
   "cell_type": "markdown",
   "id": "0eec30b4",
   "metadata": {},
   "source": [
    "- Labels each category name with a number for the model to mathematically calculate where the inputs go"
   ]
  },
  {
   "cell_type": "code",
   "execution_count": 1,
   "id": "8e42e34a",
   "metadata": {},
   "outputs": [],
   "source": [
    "index_to_label = {}\n",
    "with open(\"classes.txt\") as f:\n",
    "   for i, label in enumerate(f.readlines()):\n",
    "        index_to_label[str(i + 1)] = label.strip()\n",
    "    \n",
    "#print(index_to_label)"
   ]
  },
  {
   "cell_type": "markdown",
   "id": "4f5c71fe",
   "metadata": {},
   "source": [
    "2) Creating a dictionary for all the category names\n",
    "- What dataset.replace({parameter1 : dict_map}) does is that any input names that have the same name as the category aren't labeled as 1,1 but rather 1, (the name of the input).\n",
    "\n",
    "3) Using the NumPy function split() to create a three different datasets from the data. \n",
    "    - 70% will be used for training, 15% for testing and 15% for test validation\n",
    "    - Will create csv files that will contain this information to parse later on"
   ]
  },
  {
   "cell_type": "code",
   "execution_count": 17,
   "id": "9ff8b749",
   "metadata": {},
   "outputs": [
    {
     "data": {
      "text/html": [
       "<div>\n",
       "<style scoped>\n",
       "    .dataframe tbody tr th:only-of-type {\n",
       "        vertical-align: middle;\n",
       "    }\n",
       "\n",
       "    .dataframe tbody tr th {\n",
       "        vertical-align: top;\n",
       "    }\n",
       "\n",
       "    .dataframe thead th {\n",
       "        text-align: right;\n",
       "    }\n",
       "</style>\n",
       "<table border=\"1\" class=\"dataframe\">\n",
       "  <thead>\n",
       "    <tr style=\"text-align: right;\">\n",
       "      <th></th>\n",
       "      <th>1</th>\n",
       "      <th>Goodwill amortisation on foreign exchange movements</th>\n",
       "    </tr>\n",
       "  </thead>\n",
       "  <tbody>\n",
       "    <tr>\n",
       "      <th>1</th>\n",
       "      <td>2</td>\n",
       "      <td>iXBRL DPL (cost of sales) other repairs and ma...</td>\n",
       "    </tr>\n",
       "    <tr>\n",
       "      <th>2</th>\n",
       "      <td>3</td>\n",
       "      <td>Trademarks, patents and licenses amortisation ...</td>\n",
       "    </tr>\n",
       "    <tr>\n",
       "      <th>3</th>\n",
       "      <td>4</td>\n",
       "      <td>Motor vehicles depreciation eliminated on disp...</td>\n",
       "    </tr>\n",
       "    <tr>\n",
       "      <th>4</th>\n",
       "      <td>5</td>\n",
       "      <td>Surplus or deficit on changes in fair value of...</td>\n",
       "    </tr>\n",
       "    <tr>\n",
       "      <th>5</th>\n",
       "      <td>6</td>\n",
       "      <td>iXBRL DPL F2 gain or loss on negative goodwill...</td>\n",
       "    </tr>\n",
       "    <tr>\n",
       "      <th>...</th>\n",
       "      <td>...</td>\n",
       "      <td>...</td>\n",
       "    </tr>\n",
       "    <tr>\n",
       "      <th>2309</th>\n",
       "      <td>1153</td>\n",
       "      <td>Audit of the financial statements</td>\n",
       "    </tr>\n",
       "    <tr>\n",
       "      <th>2310</th>\n",
       "      <td>1154</td>\n",
       "      <td>iXBRL DPL (administrative) pension costs defin...</td>\n",
       "    </tr>\n",
       "    <tr>\n",
       "      <th>2311</th>\n",
       "      <td>1155</td>\n",
       "      <td>iXBRL DPL (distribution) other staff costs, di...</td>\n",
       "    </tr>\n",
       "    <tr>\n",
       "      <th>2312</th>\n",
       "      <td>1156</td>\n",
       "      <td>Other depreciation charge for year</td>\n",
       "    </tr>\n",
       "    <tr>\n",
       "      <th>2313</th>\n",
       "      <td>1157</td>\n",
       "      <td>Sales class 1 UK</td>\n",
       "    </tr>\n",
       "  </tbody>\n",
       "</table>\n",
       "<p>2313 rows × 2 columns</p>\n",
       "</div>"
      ],
      "text/plain": [
       "         1 Goodwill amortisation on foreign exchange movements\n",
       "1        2  iXBRL DPL (cost of sales) other repairs and ma... \n",
       "2        3  Trademarks, patents and licenses amortisation ... \n",
       "3        4  Motor vehicles depreciation eliminated on disp... \n",
       "4        5  Surplus or deficit on changes in fair value of... \n",
       "5        6  iXBRL DPL F2 gain or loss on negative goodwill... \n",
       "...    ...                                                ... \n",
       "2309  1153                  Audit of the financial statements \n",
       "2310  1154  iXBRL DPL (administrative) pension costs defin... \n",
       "2311  1155  iXBRL DPL (distribution) other staff costs, di... \n",
       "2312  1156                 Other depreciation charge for year \n",
       "2313  1157                                   Sales class 1 UK \n",
       "\n",
       "[2313 rows x 2 columns]"
      ]
     },
     "execution_count": 17,
     "metadata": {},
     "output_type": "execute_result"
    }
   ],
   "source": [
    "dict_map = {v: k for k, v in index_to_label.items()}\n",
    "#data = dataset.replace(dict_map)\n",
    "data = dataset.replace({\"NominalCategoryCodename\": dict_map})\n",
    "data = data.rename(columns = data.iloc[0]).drop(data.index[0])\n",
    "#data = data.rename(columns = data.iloc[0])\n",
    "#data.iloc[1] = \"Name\"\n",
    "#data = data.rename(columns = data.iloc[1])\n",
    "\n",
    "#Train Test Split\n",
    "train_data, validation_data, test_data = np.split(data.sample(frac = 1, random_state = 2000), [int(.7 * len(data)), int(.85 * len(data))])\n",
    "train_data.to_csv(\"train.csv\", header = True, index = False)\n",
    "validation_data.to_csv('test.csv', header = True, index = False)\n",
    "\n",
    "\n",
    "data"
   ]
  },
  {
   "cell_type": "code",
   "execution_count": 24,
   "id": "4b8c0c34",
   "metadata": {},
   "outputs": [],
   "source": [
    "dataset2 = pd.read_csv('trainwithoutrow[1].csv')"
   ]
  },
  {
   "cell_type": "code",
   "execution_count": 27,
   "id": "86e5511a",
   "metadata": {},
   "outputs": [
    {
     "name": "stdout",
     "output_type": "stream",
     "text": [
      "0          1\n",
      "1        821\n",
      "2        835\n",
      "3        531\n",
      "4       1135\n",
      "        ... \n",
      "1615     633\n",
      "1616    1012\n",
      "1617     659\n",
      "1618    1100\n",
      "1619     316\n",
      "Name: Names, Length: 1620, dtype: int64\n"
     ]
    }
   ],
   "source": [
    "print(dataset2['Names'])"
   ]
  },
  {
   "cell_type": "code",
   "execution_count": 31,
   "id": "e4e02462",
   "metadata": {},
   "outputs": [],
   "source": [
    "#Create for loop to iterate across train.csv\n",
    "#Using the unique category \n",
    "import array\n",
    "a = array.array('i', (0 for i in range(0,1158)))\n",
    "for x in range(1620):\n",
    "    a[dataset2['Names'][x]] += 1\n",
    "    \n"
   ]
  },
  {
   "cell_type": "code",
   "execution_count": 38,
   "id": "f7ca0795",
   "metadata": {},
   "outputs": [
    {
     "data": {
      "image/png": "[encoded data removed]",
      "text/plain": [
       "<Figure size 432x288 with 1 Axes>"
      ]
     },
     "metadata": {
      "needs_background": "light"
     },
     "output_type": "display_data"
    }
   ],
   "source": [
    "#Shows us the frequency of each category within the Train.csv file\n",
    "x = plt.hist(dataset2['Names'],bins = 2000)\n",
    "plt.show(x)\n",
    "#for s in a:\n",
    "  #  if dataset[\"Names\"][s] != 0\n",
    "        "
   ]
  },
  {
   "cell_type": "code",
   "execution_count": 48,
   "id": "5ef556d6",
   "metadata": {},
   "outputs": [
    {
     "data": {
      "image/png": "[encoded data removed]",
      "text/plain": [
       "<Figure size 432x288 with 1 Axes>"
      ]
     },
     "metadata": {},
     "output_type": "display_data"
    }
   ],
   "source": [
    "#mylabels = categories.split(',')\n",
    "x = plt.pie(dataset2['Names'])\n",
    "plt.show(x)"
   ]
  },
  {
   "cell_type": "markdown",
   "id": "6a4fe778",
   "metadata": {},
   "source": [
    "4) BlazingText expects a single preprocessed text file with space separated tokens and each line of the file should contain a single sentence and the corresponding label(s) prefixed by “_*label_*”."
   ]
  },
  {
   "cell_type": "markdown",
   "id": "d97a022c",
   "metadata": {},
   "source": [
    "- We need to preprocess the training data into space separated tokenized text format which can be consumed by BlazingText algorithm. Also, as mentioned previously, the class label(s) should be prefixed with __label__ and it should be present in the same line along with the original sentence. We’ll use nltk library to tokenize the input sentences from the dataset."
   ]
  },
  {
   "cell_type": "code",
   "execution_count": 29,
   "id": "d06095bf",
   "metadata": {},
   "outputs": [],
   "source": [
    "def transform_instance(row):\n",
    "    cur_row = []\n",
    "    label = \"__label__\" + index_to_label[row[0]]  # Prefix the index-ed label with __label__\n",
    "    cur_row.append(label)\n",
    "    cur_row.extend(nltk.word_tokenize(row[1].lower()))\n",
    "    #cur_row.extend(nltk.word_tokenize(row[2].lower()))\n",
    "    return cur_row"
   ]
  },
  {
   "cell_type": "markdown",
   "id": "e7b928dd",
   "metadata": {},
   "source": [
    "The transform_instance will be applied to each data instance in parallel using python’s multiprocessing module"
   ]
  },
  {
   "cell_type": "code",
   "execution_count": 30,
   "id": "41720797",
   "metadata": {},
   "outputs": [],
   "source": [
    "def preprocess(input_file, output_file, keep = 1):\n",
    "    all_rows = []\n",
    "    with open(input_file, \"r\") as csvinfile:\n",
    "        csv_reader = csv.reader(csvinfile, delimiter=\",\")\n",
    "        for row in csv_reader:\n",
    "            all_rows.append(row)\n",
    "    shuffle(all_rows)\n",
    "    all_rows = all_rows[: int(keep * len(all_rows))]\n",
    "    pool = Pool(processes=multiprocessing.cpu_count())\n",
    "    transformed_rows = pool.map(transform_instance, all_rows)\n",
    "    pool.close()\n",
    "    pool.join()\n",
    "\n",
    "    with open(output_file, \"w\") as csvoutfile:\n",
    "        csv_writer = csv.writer(csvoutfile, delimiter=\" \", lineterminator=\"\\n\")\n",
    "        csv_writer.writerows(transformed_rows)"
   ]
  },
  {
   "cell_type": "code",
   "execution_count": 31,
   "id": "cdb1841c",
   "metadata": {},
   "outputs": [
    {
     "name": "stdout",
     "output_type": "stream",
     "text": [
      "CPU times: user 50.2 ms, sys: 118 ms, total: 169 ms\n",
      "Wall time: 310 ms\n"
     ]
    }
   ],
   "source": [
    "%%time\n",
    "\n",
    "# Preparing the training dataset\n",
    "\n",
    "# Since preprocessing the whole dataset might take a couple of mintutes,\n",
    "# we keep 20% of the training dataset for this demo.\n",
    "# Set keep to 1 if you want to use the complete dataset\n",
    "preprocess(\"train.csv\", \"categories.train\", keep=1)\n",
    "\n",
    "# Preparing the validation dataset\n",
    "preprocess(\"test.csv\", \"categories.validation\")"
   ]
  },
  {
   "cell_type": "code",
   "execution_count": 32,
   "id": "28bc259d",
   "metadata": {},
   "outputs": [
    {
     "name": "stdout",
     "output_type": "stream",
     "text": [
      "CPU times: user 51 ms, sys: 9.3 ms, total: 60.3 ms\n",
      "Wall time: 251 ms\n"
     ]
    }
   ],
   "source": [
    "%%time\n",
    "\n",
    "train_channel = prefix + \"/train\"\n",
    "validation_channel = prefix + \"/validation\"\n",
    "\n",
    "sess.upload_data(path=\"categories.train\", bucket=bucket, key_prefix=train_channel)\n",
    "sess.upload_data(path=\"categories.validation\", bucket=bucket, key_prefix=validation_channel)\n",
    "\n",
    "s3_train_data = \"s3://{}/{}\".format(bucket, train_channel)\n",
    "s3_validation_data = \"s3://{}/{}\".format(bucket, validation_channel)"
   ]
  },
  {
   "cell_type": "code",
   "execution_count": 33,
   "id": "cc146e7e",
   "metadata": {},
   "outputs": [],
   "source": [
    "s3_output_location = \"s3://{}/{}/output\".format(bucket, prefix)"
   ]
  },
  {
   "cell_type": "markdown",
   "id": "d88cbc51",
   "metadata": {},
   "source": [
    "5) Training the BlazingText model for Supervised Text Classification and settings up Hyperparemeter Tuning Job\n",
    "\n",
    "- Now that we are done with all the setup that is needed, we are ready to train our object detector. To begin, let us create a sageMaker.estimator.Estimator object. This estimator will launch the training job."
   ]
  },
  {
   "cell_type": "code",
   "execution_count": 34,
   "id": "48f58682",
   "metadata": {},
   "outputs": [],
   "source": [
    "region_name = boto3.Session().region_name"
   ]
  },
  {
   "cell_type": "code",
   "execution_count": 35,
   "id": "ae3227ea",
   "metadata": {},
   "outputs": [
    {
     "name": "stderr",
     "output_type": "stream",
     "text": [
      "The method get_image_uri has been renamed in sagemaker>=2.\n",
      "See: https://sagemaker.readthedocs.io/en/stable/v2.html for details.\n"
     ]
    },
    {
     "name": "stdout",
     "output_type": "stream",
     "text": [
      "Using SageMaker BlazingText container: 811284229777.dkr.ecr.us-east-1.amazonaws.com/blazingtext:1 (us-east-1)\n"
     ]
    }
   ],
   "source": [
    "container = sagemaker.amazon.amazon_estimator.get_image_uri(region_name, \"blazingtext\", \"1\")\n",
    "print(\"Using SageMaker BlazingText container: {} ({})\".format(container, region_name))"
   ]
  },
  {
   "cell_type": "markdown",
   "id": "509b71fa",
   "metadata": {},
   "source": [
    "6) Now, let’s define the SageMaker Estimator with resource configurations and hyperparameters to train Text Classification on the  dataset, using “supervised” mode on a ml.c4.4xlarge instance.\n",
    "\n",
    "- Refer to BlazingText Hyperparameters in the Amazon SageMaker documentation for the complete list of hyperparameters.\n"
   ]
  },
  {
   "cell_type": "code",
   "execution_count": 36,
   "id": "d8225d7a",
   "metadata": {},
   "outputs": [],
   "source": [
    "estimator = sagemaker.estimator.Estimator(\n",
    "    container,\n",
    "    role,\n",
    "    instance_count=1,\n",
    "    instance_type=\"ml.c4.4xlarge\",\n",
    "    volume_size=30,\n",
    "    max_run=360000,\n",
    "    input_mode=\"File\",\n",
    "    output_path=s3_output_location,\n",
    "    hyperparameters={\n",
    "        \"mode\": \"supervised\",\n",
    "        \"epochs\": 25,\n",
    "        \"min_count\": 2,\n",
    "        #\"learning_rate\": 0.05,\n",
    "        #\"vector_dim\": 10,\n",
    "        \"early_stopping\": True,\n",
    "        \"patience\": 4,\n",
    "        \"min_epochs\": 5,\n",
    "        \"word_ngrams\": 1,\n",
    "    },\n",
    ")"
   ]
  },
  {
   "cell_type": "markdown",
   "id": "3ff6fe5c",
   "metadata": {},
   "source": [
    "7) Setting up Hyperparameter tuning here\n",
    "- Setting our hyperparameter ranges here. If you want to improve accuracy after running the model, you can change the ranged here to create a larger range of testing. \n",
    "- Note it will take much longer with a larger range\n"
   ]
  },
  {
   "cell_type": "code",
   "execution_count": 37,
   "id": "dde70184",
   "metadata": {},
   "outputs": [],
   "source": [
    "from sagemaker.tuner import (\n",
    "    IntegerParameter,\n",
    "    CategoricalParameter,\n",
    "    ContinuousParameter,\n",
    "    HyperparameterTuner,\n",
    ")\n",
    "\n",
    "hyperparameter_ranges = {\n",
    "    \"learning_rate\": ContinuousParameter(0.05, 0.15),\n",
    "    \"vector_dim\": IntegerParameter(32, 300),\n",
    "}"
   ]
  },
  {
   "cell_type": "code",
   "execution_count": 38,
   "id": "a18ed58a",
   "metadata": {},
   "outputs": [],
   "source": [
    "objective_metric_name = \"validation:accuracy\"\n",
    "objective_type = \"Maximize\""
   ]
  },
  {
   "cell_type": "markdown",
   "id": "9690c4b9",
   "metadata": {},
   "source": [
    "8) Create a HyperparameterTuner object, to which we pass:\n",
    "\n",
    "-  The BlazingText estimator we created above\n",
    "-  Our hyperparameter ranges\n",
    "-  Objective metric name and definition\n",
    "-  Tuning resource configurations such as Number of training jobs to run in total and how many training jobs can be run in parallel."
   ]
  },
  {
   "cell_type": "code",
   "execution_count": 39,
   "id": "765b0c75",
   "metadata": {},
   "outputs": [],
   "source": [
    "tuner = HyperparameterTuner(\n",
    "    estimator,\n",
    "    objective_metric_name,\n",
    "    hyperparameter_ranges,\n",
    "    max_jobs=6,\n",
    "    max_parallel_jobs=2,\n",
    "    objective_type=objective_type,\n",
    ")"
   ]
  },
  {
   "cell_type": "markdown",
   "id": "f1a04288",
   "metadata": {},
   "source": [
    "9) Now that the hyper-parameters are setup, let us prepare the connection between our data channels and the algorithm. To do this, we need to create the sagemaker.session.s3_input objects from our data channels. These objects are then put in a simple dictionary, which the algorithm consumes."
   ]
  },
  {
   "cell_type": "code",
   "execution_count": 40,
   "id": "f09021ea",
   "metadata": {},
   "outputs": [],
   "source": [
    "train_data = sagemaker.inputs.TrainingInput(\n",
    "    s3_train_data,\n",
    "    distribution=\"FullyReplicated\",\n",
    "    content_type=\"text/plain\",\n",
    "    s3_data_type=\"S3Prefix\",\n",
    ")\n",
    "validation_data = sagemaker.inputs.TrainingInput(\n",
    "    s3_validation_data,\n",
    "    distribution=\"FullyReplicated\",\n",
    "    content_type=\"text/plain\",\n",
    "    s3_data_type=\"S3Prefix\",\n",
    ")\n",
    "data_channels = {\"train\": train_data, \"validation\": validation_data}"
   ]
  },
  {
   "cell_type": "markdown",
   "id": "4b7b456a",
   "metadata": {},
   "source": [
    "- We have our Estimator object, we have set the hyper-parameters for this object and we have our data channels linked with the algorithm. The only remaining thing to do is to train the algorithm. The following command will train the algorithm. Training the algorithm involves a few steps. Firstly, the instance that we requested while creating the Estimator classes is provisioned and is setup with the appropriate libraries. Then, the data from our channels are downloaded into the instance. Once this is done, the training job begins. The provisioning and data downloading will take some time, depending on the size of the data. Therefore it might be a few minutes before we start getting training logs for our training jobs. The data logs will also print out Accuracy on the validation data for every epoch after training job has executed min_epochs. This metric is a proxy for the quality of the algorithm.\n",
    "\n",
    "- Once the job has finished a “Job complete” message will be printed. The trained model can be found in the S3 bucket that was setup as output_path in the estimator."
   ]
  },
  {
   "cell_type": "markdown",
   "id": "89fa0d87",
   "metadata": {},
   "source": [
    "10) Launch the Hyperparameter tuning job\n",
    "\n",
    "- Use the fit() method to launch the job and use the SageMaker Console to keep track of progress"
   ]
  },
  {
   "cell_type": "code",
   "execution_count": 41,
   "id": "c1fa0c2e",
   "metadata": {},
   "outputs": [
    {
     "name": "stderr",
     "output_type": "stream",
     "text": [
      "No finished training job found associated with this estimator. Please make sure this estimator is only used for building workflow config\n",
      "No finished training job found associated with this estimator. Please make sure this estimator is only used for building workflow config\n"
     ]
    },
    {
     "name": "stdout",
     "output_type": "stream",
     "text": [
      ".............................................................................................................................!\n",
      "CPU times: user 494 ms, sys: 66.4 ms, total: 560 ms\n",
      "Wall time: 10min 32s\n"
     ]
    }
   ],
   "source": [
    "%%time\n",
    "\n",
    "tuner.fit(inputs=data_channels, logs=True)"
   ]
  },
  {
   "cell_type": "markdown",
   "id": "c881a128",
   "metadata": {},
   "source": [
    "- Analyze + Track The tuning Job Results and Progress"
   ]
  },
  {
   "cell_type": "code",
   "execution_count": 42,
   "id": "2a788553",
   "metadata": {},
   "outputs": [
    {
     "data": {
      "text/plain": [
       "'blazingtext-220805-1510'"
      ]
     },
     "execution_count": 42,
     "metadata": {},
     "output_type": "execute_result"
    }
   ],
   "source": [
    "sm_client = boto3.Session().client(\"sagemaker\")\n",
    "\n",
    "tuning_job_name = tuner.latest_tuning_job.name\n",
    "tuning_job_name"
   ]
  },
  {
   "cell_type": "code",
   "execution_count": 43,
   "id": "daa24b2c",
   "metadata": {},
   "outputs": [
    {
     "name": "stdout",
     "output_type": "stream",
     "text": [
      "1 training jobs have completed\n"
     ]
    }
   ],
   "source": [
    "tuning_job_result = sm_client.describe_hyper_parameter_tuning_job(\n",
    "    HyperParameterTuningJobName=tuning_job_name\n",
    ")\n",
    "\n",
    "status = tuning_job_result[\"HyperParameterTuningJobStatus\"]\n",
    "if status != \"Completed\":\n",
    "    print(\"Reminder: the tuning job has not been completed.\")\n",
    "\n",
    "job_count = tuning_job_result[\"TrainingJobStatusCounters\"][\"Completed\"]\n",
    "print(\"%d training jobs have completed\" % job_count)\n",
    "\n",
    "is_minimize = (\n",
    "    tuning_job_result[\"HyperParameterTuningJobConfig\"][\"HyperParameterTuningJobObjective\"][\"Type\"]\n",
    "    != \"Maximize\"\n",
    ")\n",
    "objective_name = tuning_job_result[\"HyperParameterTuningJobConfig\"][\n",
    "    \"HyperParameterTuningJobObjective\"\n",
    "][\"MetricName\"]"
   ]
  },
  {
   "cell_type": "code",
   "execution_count": 44,
   "id": "4ef45129",
   "metadata": {},
   "outputs": [
    {
     "name": "stdout",
     "output_type": "stream",
     "text": [
      "Best model found so far:\n",
      "{'CreationTime': datetime.datetime(2022, 8, 5, 15, 16, 4, tzinfo=tzlocal()),\n",
      " 'FinalHyperParameterTuningJobObjectiveMetric': {'MetricName': 'validation:accuracy',\n",
      "                                                 'Value': 0.16670000553131104},\n",
      " 'ObjectiveStatus': 'Succeeded',\n",
      " 'TrainingEndTime': datetime.datetime(2022, 8, 5, 15, 18, 24, tzinfo=tzlocal()),\n",
      " 'TrainingJobArn': 'arn:aws:sagemaker:us-east-1:367379483300:training-job/blazingtext-220805-1510-005-c0d3ece5',\n",
      " 'TrainingJobName': 'blazingtext-220805-1510-005-c0d3ece5',\n",
      " 'TrainingJobStatus': 'Completed',\n",
      " 'TrainingStartTime': datetime.datetime(2022, 8, 5, 15, 17, 37, tzinfo=tzlocal()),\n",
      " 'TunedHyperParameters': {'learning_rate': '0.06536669594145633',\n",
      "                          'vector_dim': '95'}}\n"
     ]
    }
   ],
   "source": [
    "from pprint import pprint\n",
    "\n",
    "if tuning_job_result.get(\"BestTrainingJob\", None):\n",
    "    print(\"Best model found so far:\")\n",
    "    pprint(tuning_job_result[\"BestTrainingJob\"])\n",
    "else:\n",
    "    print(\"No training jobs have reported results yet.\")"
   ]
  },
  {
   "cell_type": "markdown",
   "id": "379d8d70",
   "metadata": {},
   "source": [
    "- Get the results and make it a DataFrame"
   ]
  },
  {
   "cell_type": "code",
   "execution_count": 45,
   "id": "240acfb4",
   "metadata": {},
   "outputs": [
    {
     "name": "stdout",
     "output_type": "stream",
     "text": [
      "Number of training jobs with valid objective: 1\n",
      "{'lowest': 0.16670000553131104, 'highest': 0.16670000553131104}\n"
     ]
    },
    {
     "name": "stderr",
     "output_type": "stream",
     "text": [
      "/tmp/ipykernel_24594/3842159511.py:13: FutureWarning: Passing a negative integer is deprecated in version 1.0 and will not be supported in future version. Instead, use None to not limit the column width.\n",
      "  pd.set_option(\"display.max_colwidth\", -1)  # Don't truncate TrainingJobName\n"
     ]
    },
    {
     "data": {
      "text/html": [
       "<div>\n",
       "<style scoped>\n",
       "    .dataframe tbody tr th:only-of-type {\n",
       "        vertical-align: middle;\n",
       "    }\n",
       "\n",
       "    .dataframe tbody tr th {\n",
       "        vertical-align: top;\n",
       "    }\n",
       "\n",
       "    .dataframe thead th {\n",
       "        text-align: right;\n",
       "    }\n",
       "</style>\n",
       "<table border=\"1\" class=\"dataframe\">\n",
       "  <thead>\n",
       "    <tr style=\"text-align: right;\">\n",
       "      <th></th>\n",
       "      <th>learning_rate</th>\n",
       "      <th>vector_dim</th>\n",
       "      <th>TrainingJobName</th>\n",
       "      <th>TrainingJobStatus</th>\n",
       "      <th>FinalObjectiveValue</th>\n",
       "      <th>TrainingStartTime</th>\n",
       "      <th>TrainingEndTime</th>\n",
       "      <th>TrainingElapsedTimeSeconds</th>\n",
       "    </tr>\n",
       "  </thead>\n",
       "  <tbody>\n",
       "    <tr>\n",
       "      <th>1</th>\n",
       "      <td>0.065367</td>\n",
       "      <td>95.0</td>\n",
       "      <td>blazingtext-220805-1510-005-c0d3ece5</td>\n",
       "      <td>Completed</td>\n",
       "      <td>0.1667</td>\n",
       "      <td>2022-08-05 15:17:37+00:00</td>\n",
       "      <td>2022-08-05 15:18:24+00:00</td>\n",
       "      <td>47.0</td>\n",
       "    </tr>\n",
       "  </tbody>\n",
       "</table>\n",
       "</div>"
      ],
      "text/plain": [
       "   learning_rate  vector_dim                       TrainingJobName  \\\n",
       "1  0.065367       95.0        blazingtext-220805-1510-005-c0d3ece5   \n",
       "\n",
       "  TrainingJobStatus  FinalObjectiveValue         TrainingStartTime  \\\n",
       "1  Completed         0.1667              2022-08-05 15:17:37+00:00   \n",
       "\n",
       "            TrainingEndTime  TrainingElapsedTimeSeconds  \n",
       "1 2022-08-05 15:18:24+00:00  47.0                        "
      ]
     },
     "execution_count": 45,
     "metadata": {},
     "output_type": "execute_result"
    }
   ],
   "source": [
    "import pandas as pd\n",
    "\n",
    "tuner_analytics = sagemaker.HyperparameterTuningJobAnalytics(tuning_job_name)\n",
    "\n",
    "full_df = tuner_analytics.dataframe()\n",
    "\n",
    "if len(full_df) > 0:\n",
    "    df = full_df[full_df[\"FinalObjectiveValue\"] > -float(\"inf\")]\n",
    "    if len(df) > 0:\n",
    "        df = df.sort_values(\"FinalObjectiveValue\", ascending=is_minimize)\n",
    "        print(\"Number of training jobs with valid objective: %d\" % len(df))\n",
    "        print({\"lowest\": min(df[\"FinalObjectiveValue\"]), \"highest\": max(df[\"FinalObjectiveValue\"])})\n",
    "        pd.set_option(\"display.max_colwidth\", -1)  # Don't truncate TrainingJobName\n",
    "    else:\n",
    "        print(\"No training jobs have reported valid results yet.\")\n",
    "\n",
    "df"
   ]
  },
  {
   "cell_type": "markdown",
   "id": "452fe9c8",
   "metadata": {},
   "source": [
    "11) Hosting / Inference the best trained model\n",
    "\n",
    "- Once the training is done, we can deploy the trained model as an Amazon SageMaker real-time hosted endpoint. This will allow us to make predictions (or inference) from the model. Note that we don’t have to host on the same type of instance that we used to train. Because instance endpoints will be up and running for long, it’s advisable to choose a cheaper instance for inference."
   ]
  },
  {
   "cell_type": "code",
   "execution_count": 46,
   "id": "406f9d26",
   "metadata": {},
   "outputs": [
    {
     "name": "stdout",
     "output_type": "stream",
     "text": [
      "\n",
      "2022-08-05 15:18:24 Starting - Preparing the instances for training\n",
      "2022-08-05 15:18:24 Downloading - Downloading input data\n",
      "2022-08-05 15:18:24 Training - Training image download completed. Training in progress.\n",
      "2022-08-05 15:18:24 Uploading - Uploading generated training model\n",
      "2022-08-05 15:18:24 Completed - Training job completed\n",
      "---------!"
     ]
    }
   ],
   "source": [
    "from sagemaker.serializers import JSONSerializer\n",
    "\n",
    "text_classifier = tuner.deploy(\n",
    "    initial_instance_count=1, instance_type=\"ml.m4.xlarge\", serializer=JSONSerializer()\n",
    ")"
   ]
  },
  {
   "cell_type": "markdown",
   "id": "a1ea2f66",
   "metadata": {},
   "source": [
    "- BlazingText supports application/json as the content-type for inference. The payload should contain a list of sentences with the key as “instances” while being passed to the endpoint.\n",
    "\n",
    "- By default, the model will return only one prediction, the one with the highest probability. For retrieving the top k predictions, you can set k in the configuration as shown below:"
   ]
  },
  {
   "cell_type": "code",
   "execution_count": 47,
   "id": "71f1c6f2",
   "metadata": {},
   "outputs": [
    {
     "name": "stdout",
     "output_type": "stream",
     "text": [
      "[\n",
      "  {\n",
      "    \"label\": [\n",
      "      \"__label__Tax\"\n",
      "    ],\n",
      "    \"prob\": [\n",
      "      0.05265333130955696\n",
      "    ]\n",
      "  }\n",
      "]\n"
     ]
    }
   ],
   "source": [
    "sentences = {\n",
    "    #\"Vehicle Costs for Crash\"\n",
    "    #\"Current Liabilities\"\n",
    "    #\"Financial Contracts\"\n",
    "    #\"Other country Money\"\n",
    "    #\"Government\" \n",
    "    #\"iXBRL DPL F2 gain or loss on negative goodwill/bargain purchases released to income\"\n",
    "    #\"Contract liabilities\"\n",
    "    #\"Miscellaneous other operating income\"\n",
    "    #\"Current portion of long term lease liabilities\"\n",
    "    #\"iXBRL DPL (cost of sales) wages/salaries\"\n",
    "    #\"Gain or loss on disposal of property, plant and equipment\"\n",
    "    \"Deferred tax on post-retirement healthcare scheme 1 asset/liability\"\n",
    "    \n",
    "    ##Major Problem with NLP is that it can't understand accounting terminology like a human can unless we train it over and over again\n",
    "    \n",
    "    \n",
    "}\n",
    "\n",
    "tokenized_sentences = [\" \".join(nltk.word_tokenize(sent)) for sent in sentences]\n",
    "\n",
    "payload = {\"instances\": tokenized_sentences}\n",
    "\n",
    "response = text_classifier.predict(payload)\n",
    "\n",
    "predictions = json.loads(response)\n",
    "\n",
    "print(json.dumps(predictions, indent=2))\n",
    "#print(\"prob: 100%\")\n",
    "\n",
    "#runtime_client = boto3.client(\"runtime.sagemaker\", region_name = region)"
   ]
  },
  {
   "cell_type": "markdown",
   "id": "9485aada",
   "metadata": {},
   "source": [
    "12) Delete Endpoints\n",
    "\n",
    "- Finally, we should delete the endpoint before we close the notebook if we don’t need to keep the endpoint running for serving realtime predictions."
   ]
  },
  {
   "cell_type": "code",
   "execution_count": 39,
   "id": "76cfc232",
   "metadata": {},
   "outputs": [
    {
     "name": "stderr",
     "output_type": "stream",
     "text": [
      "The endpoint attribute has been renamed in sagemaker>=2.\n",
      "See: https://sagemaker.readthedocs.io/en/stable/v2.html for details.\n"
     ]
    }
   ],
   "source": [
    "sess.delete_endpoint(text_classifier.endpoint)"
   ]
  },
  {
   "cell_type": "code",
   "execution_count": null,
   "id": "f66c679f",
   "metadata": {},
   "outputs": [],
   "source": []
  }
 ],
 "metadata": {
  "kernelspec": {
   "display_name": "conda_python3",
   "language": "python",
   "name": "conda_python3"
  },
  "language_info": {
   "codemirror_mode": {
    "name": "ipython",
    "version": 3
   },
   "file_extension": ".py",
   "mimetype": "text/x-python",
   "name": "python",
   "nbconvert_exporter": "python",
   "pygments_lexer": "ipython3",
   "version": "3.8.12"
  }
 },
 "nbformat": 4,
 "nbformat_minor": 5
}
